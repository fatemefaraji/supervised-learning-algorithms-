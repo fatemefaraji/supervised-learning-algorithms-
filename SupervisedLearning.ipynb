{
 "cells": [
  {
   "cell_type": "code",
   "execution_count": 3,
   "id": "a0a785dc-5fed-4941-ade1-a7db325014a4",
   "metadata": {},
   "outputs": [],
   "source": [
    "import numpy as np \n",
    "import pandas as pd \n",
    "import seaborn as sns\n",
    "from matplotlib import pyplot as plt\n",
    "from sklearn.naive_bayes import GaussianNB\n",
    "from sklearn.model_selection import train_test_split\n",
    "from sklearn.metrics import confusion_matrix, accuracy_score, classification_report, mean_absolute_error\n",
    "from sklearn.svm import SVC\n",
    "from sklearn.linear_model import LinearRegression, LogisticRegression\n",
    "from sklearn.tree import DecisionTreeClassifier\n",
    "from sklearn.ensemble import RandomForestClassifier\n",
    "from sklearn.decomposition import PCA\n",
    "from sklearn.cluster import KMeans, DBSCAN\n",
    "from scipy.cluster.hierarchy import dendrogram, linkage, fcluster\n",
    "from sklearn.preprocessing import StandardScaler"
   ]
  },
  {
   "cell_type": "code",
   "execution_count": 4,
   "id": "09e01e13-e080-46d6-9959-71cd3d3ea3b5",
   "metadata": {},
   "outputs": [],
   "source": [
    "def eval_met(y_actual, y_predicted, model_name, results):\n",
    "    accuracy = accuracy_score(y_actual, y_predicted)\n",
    "    results[model_name] = {\n",
    "        'Accuracy': accuracy,\n",
    "        'Confusion Matrix': confusion_matrix(y_actual, y_predicted).tolist(),\n",
    "        'Classification Report': classification_report(y_actual, y_predicted, output_dict=True)\n",
    "    }\n",
    "    print(f\"{model_name} Accuracy score: {accuracy}\")\n",
    "    print(f\"{model_name} Confusion matrix:\\n{confusion_matrix(y_actual, y_predicted)}\")\n",
    "    print(f\"{model_name} Classification report:\\n{classification_report(y_actual, y_predicted)}\")"
   ]
  },
  {
   "cell_type": "code",
   "execution_count": 5,
   "id": "2803c79e-0825-4f5b-b004-3bab3b476503",
   "metadata": {},
   "outputs": [],
   "source": [
    "# Load dataset\n",
    "df = pd.read_csv(r\"C:\\Users\\admin\\OneDrive\\Desktop\\Nora/Naive-Bayes-Classification-Data.csv\")"
   ]
  },
  {
   "cell_type": "code",
   "execution_count": 6,
   "id": "759c955d-3b47-4d29-a775-f554943f40f9",
   "metadata": {},
   "outputs": [
    {
     "name": "stdout",
     "output_type": "stream",
     "text": [
      "   glucose  bloodpressure  diabetes\n",
      "0       40             85         0\n",
      "1       40             92         0\n",
      "2       45             63         1\n",
      "3       45             80         0\n",
      "4       40             73         1\n",
      "5       45             82         0\n",
      "6       40             85         0\n",
      "7       30             63         1\n",
      "8       65             65         1\n",
      "9       45             82         0\n"
     ]
    }
   ],
   "source": [
    "# Data exploration\n",
    "print(df.head(10))"
   ]
  },
  {
   "cell_type": "code",
   "execution_count": 7,
   "id": "e9b11483-fdcc-4edb-8f66-9b6f27ed2d8d",
   "metadata": {},
   "outputs": [
    {
     "data": {
      "text/plain": [
       "(995, 3)"
      ]
     },
     "execution_count": 7,
     "metadata": {},
     "output_type": "execute_result"
    }
   ],
   "source": [
    "df.shape"
   ]
  },
  {
   "cell_type": "code",
   "execution_count": 8,
   "id": "a597f81a-ce14-4d49-b013-d1b4f9a2561d",
   "metadata": {},
   "outputs": [
    {
     "name": "stdout",
     "output_type": "stream",
     "text": [
      "glucose          0\n",
      "bloodpressure    0\n",
      "diabetes         0\n",
      "dtype: int64\n"
     ]
    }
   ],
   "source": [
    "print(df.isnull().sum())"
   ]
  },
  {
   "cell_type": "code",
   "execution_count": 9,
   "id": "ace48659-a83e-44b7-b5b5-53ba1d839287",
   "metadata": {},
   "outputs": [
    {
     "data": {
      "text/plain": [
       "Index(['glucose', 'bloodpressure', 'diabetes'], dtype='object')"
      ]
     },
     "execution_count": 9,
     "metadata": {},
     "output_type": "execute_result"
    }
   ],
   "source": [
    "df.columns"
   ]
  },
  {
   "cell_type": "code",
   "execution_count": 10,
   "id": "17408a6c-6fd8-4fe3-a7aa-40164bf7c4eb",
   "metadata": {},
   "outputs": [
    {
     "name": "stdout",
     "output_type": "stream",
     "text": [
      "<class 'pandas.core.frame.DataFrame'>\n",
      "RangeIndex: 995 entries, 0 to 994\n",
      "Data columns (total 3 columns):\n",
      " #   Column         Non-Null Count  Dtype\n",
      "---  ------         --------------  -----\n",
      " 0   glucose        995 non-null    int64\n",
      " 1   bloodpressure  995 non-null    int64\n",
      " 2   diabetes       995 non-null    int64\n",
      "dtypes: int64(3)\n",
      "memory usage: 23.4 KB\n"
     ]
    }
   ],
   "source": [
    "df.info()"
   ]
  },
  {
   "cell_type": "code",
   "execution_count": 11,
   "id": "c9554f50-9125-49ea-8c9a-bd92dc51d7e1",
   "metadata": {},
   "outputs": [
    {
     "data": {
      "text/html": [
       "<div>\n",
       "<style scoped>\n",
       "    .dataframe tbody tr th:only-of-type {\n",
       "        vertical-align: middle;\n",
       "    }\n",
       "\n",
       "    .dataframe tbody tr th {\n",
       "        vertical-align: top;\n",
       "    }\n",
       "\n",
       "    .dataframe thead th {\n",
       "        text-align: right;\n",
       "    }\n",
       "</style>\n",
       "<table border=\"1\" class=\"dataframe\">\n",
       "  <thead>\n",
       "    <tr style=\"text-align: right;\">\n",
       "      <th></th>\n",
       "      <th>glucose</th>\n",
       "      <th>bloodpressure</th>\n",
       "      <th>diabetes</th>\n",
       "    </tr>\n",
       "  </thead>\n",
       "  <tbody>\n",
       "    <tr>\n",
       "      <th>count</th>\n",
       "      <td>995.000000</td>\n",
       "      <td>995.000000</td>\n",
       "      <td>995.000000</td>\n",
       "    </tr>\n",
       "    <tr>\n",
       "      <th>mean</th>\n",
       "      <td>44.306533</td>\n",
       "      <td>79.184925</td>\n",
       "      <td>0.500503</td>\n",
       "    </tr>\n",
       "    <tr>\n",
       "      <th>std</th>\n",
       "      <td>6.707567</td>\n",
       "      <td>9.340204</td>\n",
       "      <td>0.500251</td>\n",
       "    </tr>\n",
       "    <tr>\n",
       "      <th>min</th>\n",
       "      <td>20.000000</td>\n",
       "      <td>50.000000</td>\n",
       "      <td>0.000000</td>\n",
       "    </tr>\n",
       "    <tr>\n",
       "      <th>25%</th>\n",
       "      <td>40.000000</td>\n",
       "      <td>72.000000</td>\n",
       "      <td>0.000000</td>\n",
       "    </tr>\n",
       "    <tr>\n",
       "      <th>50%</th>\n",
       "      <td>45.000000</td>\n",
       "      <td>80.000000</td>\n",
       "      <td>1.000000</td>\n",
       "    </tr>\n",
       "    <tr>\n",
       "      <th>75%</th>\n",
       "      <td>50.000000</td>\n",
       "      <td>87.000000</td>\n",
       "      <td>1.000000</td>\n",
       "    </tr>\n",
       "    <tr>\n",
       "      <th>max</th>\n",
       "      <td>70.000000</td>\n",
       "      <td>100.000000</td>\n",
       "      <td>1.000000</td>\n",
       "    </tr>\n",
       "  </tbody>\n",
       "</table>\n",
       "</div>"
      ],
      "text/plain": [
       "          glucose  bloodpressure    diabetes\n",
       "count  995.000000     995.000000  995.000000\n",
       "mean    44.306533      79.184925    0.500503\n",
       "std      6.707567       9.340204    0.500251\n",
       "min     20.000000      50.000000    0.000000\n",
       "25%     40.000000      72.000000    0.000000\n",
       "50%     45.000000      80.000000    1.000000\n",
       "75%     50.000000      87.000000    1.000000\n",
       "max     70.000000     100.000000    1.000000"
      ]
     },
     "execution_count": 11,
     "metadata": {},
     "output_type": "execute_result"
    }
   ],
   "source": [
    "df.describe()"
   ]
  },
  {
   "cell_type": "code",
   "execution_count": 12,
   "id": "ff9e91c4-64a3-4c58-aa61-c7f97159ef3c",
   "metadata": {},
   "outputs": [
    {
     "name": "stdout",
     "output_type": "stream",
     "text": [
      "<class 'pandas.core.frame.DataFrame'>\n",
      "RangeIndex: 995 entries, 0 to 994\n",
      "Data columns (total 3 columns):\n",
      " #   Column         Non-Null Count  Dtype\n",
      "---  ------         --------------  -----\n",
      " 0   glucose        995 non-null    int64\n",
      " 1   bloodpressure  995 non-null    int64\n",
      " 2   diabetes       995 non-null    int64\n",
      "dtypes: int64(3)\n",
      "memory usage: 23.4 KB\n"
     ]
    }
   ],
   "source": [
    "df.info()"
   ]
  },
  {
   "cell_type": "code",
   "execution_count": 13,
   "id": "ffa37443-556a-4df5-8e1f-43ca7e72d106",
   "metadata": {},
   "outputs": [
    {
     "name": "stdout",
     "output_type": "stream",
     "text": [
      "          glucose  bloodpressure    diabetes\n",
      "count  995.000000     995.000000  995.000000\n",
      "mean    44.306533      79.184925    0.500503\n",
      "std      6.707567       9.340204    0.500251\n",
      "min     20.000000      50.000000    0.000000\n",
      "10%     35.000000      67.000000    0.000000\n",
      "20%     40.000000      70.000000    0.000000\n",
      "30%     40.000000      73.000000    0.000000\n",
      "50%     45.000000      80.000000    1.000000\n",
      "60%     45.000000      83.000000    1.000000\n",
      "70%     45.000000      85.000000    1.000000\n",
      "80%     50.000000      88.000000    1.000000\n",
      "90%     50.000000      90.000000    1.000000\n",
      "98%     60.000000      95.000000    1.000000\n",
      "max     70.000000     100.000000    1.000000\n"
     ]
    }
   ],
   "source": [
    "print(df.describe([0.1, 0.2, 0.3, 0.5, 0.6, 0.7, 0.8, 0.9, 0.98]))"
   ]
  },
  {
   "cell_type": "code",
   "execution_count": 14,
   "id": "ee947a3a-5554-4958-a023-d07834336475",
   "metadata": {},
   "outputs": [
    {
     "name": "stdout",
     "output_type": "stream",
     "text": [
      "                glucose  bloodpressure  diabetes\n",
      "glucose        1.000000      -0.164553  0.031585\n",
      "bloodpressure -0.164553       1.000000 -0.808303\n",
      "diabetes       0.031585      -0.808303  1.000000\n"
     ]
    }
   ],
   "source": [
    "print(df.corr())"
   ]
  },
  {
   "cell_type": "code",
   "execution_count": 15,
   "id": "feff8d8b-e120-47bf-9c44-8afcb7c199ad",
   "metadata": {},
   "outputs": [
    {
     "data": {
      "image/png": "[encoded data removed]",
      "text/plain": [
       "<Figure size 500x500 with 1 Axes>"
      ]
     },
     "metadata": {},
     "output_type": "display_data"
    }
   ],
   "source": [
    "plt.figure(figsize=(5, 5))\n",
    "sns.countplot(data=df, x='diabetes', width=.2, palette=['green', 'yellow'])\n",
    "plt.title(\"Diabetes class distribution\")\n",
    "plt.show()"
   ]
  },
  {
   "cell_type": "code",
   "execution_count": 16,
   "id": "dd5d968e-85a2-4262-9f20-3df7e5a49282",
   "metadata": {},
   "outputs": [],
   "source": [
    " #Split dataset\n",
    "X = df.drop(columns='diabetes')\n",
    "y = df['diabetes']\n",
    "X_train, X_test, y_train, y_test = train_test_split(X, y, test_size=0.2, random_state=123)"
   ]
  },
  {
   "cell_type": "code",
   "execution_count": 17,
   "id": "11f8deea-2cd8-4f36-bbd2-99e4ece006d7",
   "metadata": {},
   "outputs": [],
   "source": [
    "# Initialize results dictionary\n",
    "results = {}\n"
   ]
  },
  {
   "cell_type": "code",
   "execution_count": 18,
   "id": "2178f54b-201d-4f0d-b846-07d16160f52a",
   "metadata": {},
   "outputs": [
    {
     "name": "stdout",
     "output_type": "stream",
     "text": [
      "Naive Bayes Accuracy score: 0.949748743718593\n",
      "Naive Bayes Confusion matrix:\n",
      "[[95  3]\n",
      " [ 7 94]]\n",
      "Naive Bayes Classification report:\n",
      "              precision    recall  f1-score   support\n",
      "\n",
      "           0       0.93      0.97      0.95        98\n",
      "           1       0.97      0.93      0.95       101\n",
      "\n",
      "    accuracy                           0.95       199\n",
      "   macro avg       0.95      0.95      0.95       199\n",
      "weighted avg       0.95      0.95      0.95       199\n",
      "\n"
     ]
    }
   ],
   "source": [
    "\n",
    "# Naive Bayes\n",
    "nb_model = GaussianNB()\n",
    "nb_model.fit(X_train, y_train)\n",
    "y_pred_nb = nb_model.predict(X_test)\n",
    "eval_met(y_test, y_pred_nb, 'Naive Bayes', results)"
   ]
  },
  {
   "cell_type": "code",
   "execution_count": 19,
   "id": "c9e0b891-1856-4442-871f-6ad0cc90290b",
   "metadata": {},
   "outputs": [
    {
     "name": "stdout",
     "output_type": "stream",
     "text": [
      "SVM Accuracy score: 0.9346733668341709\n",
      "SVM Confusion matrix:\n",
      "[[95  3]\n",
      " [10 91]]\n",
      "SVM Classification report:\n",
      "              precision    recall  f1-score   support\n",
      "\n",
      "           0       0.90      0.97      0.94        98\n",
      "           1       0.97      0.90      0.93       101\n",
      "\n",
      "    accuracy                           0.93       199\n",
      "   macro avg       0.94      0.94      0.93       199\n",
      "weighted avg       0.94      0.93      0.93       199\n",
      "\n"
     ]
    }
   ],
   "source": [
    "# SVM\n",
    "svm_model = SVC()\n",
    "svm_model.fit(X_train, y_train)\n",
    "y_pred_svm = svm_model.predict(X_test)\n",
    "eval_met(y_test, y_pred_svm, 'SVM', results)\n"
   ]
  },
  {
   "cell_type": "code",
   "execution_count": 20,
   "id": "6d4b37a5-0811-4f4f-9556-9868466f3f84",
   "metadata": {},
   "outputs": [
    {
     "name": "stdout",
     "output_type": "stream",
     "text": [
      "Linear Regression Accuracy score: 0.9246231155778895\n",
      "Linear Regression Confusion matrix:\n",
      "[[95  3]\n",
      " [12 89]]\n",
      "Linear Regression Classification report:\n",
      "              precision    recall  f1-score   support\n",
      "\n",
      "           0       0.89      0.97      0.93        98\n",
      "           1       0.97      0.88      0.92       101\n",
      "\n",
      "    accuracy                           0.92       199\n",
      "   macro avg       0.93      0.93      0.92       199\n",
      "weighted avg       0.93      0.92      0.92       199\n",
      "\n"
     ]
    }
   ],
   "source": [
    "\n",
    "# Linear Regression\n",
    "lr_model = LinearRegression()\n",
    "lr_model.fit(X_train, y_train)\n",
    "y_pred_lr = lr_model.predict(X_test)\n",
    "y_pred_lr_class = np.where(y_pred_lr > 0.5, 1, 0)  # Convert predictions to binary class\n",
    "eval_met(y_test, y_pred_lr_class, 'Linear Regression', results)\n",
    "results['Linear Regression']['Mean Absolute Error'] = mean_absolute_error(y_test, y_pred_lr)"
   ]
  },
  {
   "cell_type": "code",
   "execution_count": 21,
   "id": "94b91978-9f2f-48bf-8857-a31efebb86bf",
   "metadata": {},
   "outputs": [
    {
     "name": "stdout",
     "output_type": "stream",
     "text": [
      "Decision Tree Accuracy score: 0.9346733668341709\n",
      "Decision Tree Confusion matrix:\n",
      "[[95  3]\n",
      " [10 91]]\n",
      "Decision Tree Classification report:\n",
      "              precision    recall  f1-score   support\n",
      "\n",
      "           0       0.90      0.97      0.94        98\n",
      "           1       0.97      0.90      0.93       101\n",
      "\n",
      "    accuracy                           0.93       199\n",
      "   macro avg       0.94      0.94      0.93       199\n",
      "weighted avg       0.94      0.93      0.93       199\n",
      "\n"
     ]
    }
   ],
   "source": [
    "# Decision Tree\n",
    "dt_model = DecisionTreeClassifier()\n",
    "dt_model.fit(X_train, y_train)\n",
    "y_pred_dt = dt_model.predict(X_test)\n",
    "eval_met(y_test, y_pred_dt, 'Decision Tree', results)"
   ]
  },
  {
   "cell_type": "code",
   "execution_count": 22,
   "id": "893d377e-2758-460d-94dd-02c8de25f32e",
   "metadata": {},
   "outputs": [
    {
     "name": "stdout",
     "output_type": "stream",
     "text": [
      "Random Forest Accuracy score: 0.9346733668341709\n",
      "Random Forest Confusion matrix:\n",
      "[[95  3]\n",
      " [10 91]]\n",
      "Random Forest Classification report:\n",
      "              precision    recall  f1-score   support\n",
      "\n",
      "           0       0.90      0.97      0.94        98\n",
      "           1       0.97      0.90      0.93       101\n",
      "\n",
      "    accuracy                           0.93       199\n",
      "   macro avg       0.94      0.94      0.93       199\n",
      "weighted avg       0.94      0.93      0.93       199\n",
      "\n"
     ]
    }
   ],
   "source": [
    "# Random Forest\n",
    "rf_model = RandomForestClassifier()\n",
    "rf_model.fit(X_train, y_train)\n",
    "y_pred_rf = rf_model.predict(X_test)\n",
    "eval_met(y_test, y_pred_rf, 'Random Forest', results)"
   ]
  },
  {
   "cell_type": "code",
   "execution_count": 23,
   "id": "6e061abb-05f6-4656-aa2e-40f0468fd035",
   "metadata": {},
   "outputs": [],
   "source": [
    "\n",
    "# Standardize the data for PCA and Clustering\n",
    "scaler = StandardScaler()\n",
    "X_scaled = scaler.fit_transform(X)"
   ]
  },
  {
   "cell_type": "code",
   "execution_count": 26,
   "id": "a01b81aa-286e-4748-8390-6e33f74e063f",
   "metadata": {},
   "outputs": [
    {
     "name": "stdout",
     "output_type": "stream",
     "text": [
      "Logistic Regression Accuracy score: 0.9346733668341709\n",
      "Logistic Regression Confusion matrix:\n",
      "[[95  3]\n",
      " [10 91]]\n",
      "Logistic Regression Classification report:\n",
      "              precision    recall  f1-score   support\n",
      "\n",
      "           0       0.90      0.97      0.94        98\n",
      "           1       0.97      0.90      0.93       101\n",
      "\n",
      "    accuracy                           0.93       199\n",
      "   macro avg       0.94      0.94      0.93       199\n",
      "weighted avg       0.94      0.93      0.93       199\n",
      "\n"
     ]
    }
   ],
   "source": [
    "# Logistic Regression\n",
    "log_reg_model = LogisticRegression(max_iter=1000)\n",
    "log_reg_model.fit(X_train, y_train)\n",
    "y_pred_log_reg = log_reg_model.predict(X_test)\n",
    "eval_met(y_test, y_pred_log_reg, 'Logistic Regression', results)"
   ]
  },
  {
   "cell_type": "code",
   "execution_count": 28,
   "id": "8cf65503-fcd6-4a7b-a6f3-06f65ca71210",
   "metadata": {},
   "outputs": [],
   "source": [
    "\n",
    "# Example prediction with Naive Bayes model\n",
    "#print(\"Example prediction with Naive Bayes model:\")\n",
    "#print(nb_model.predict([[34, 25]]))\n"
   ]
  },
  {
   "cell_type": "code",
   "execution_count": 29,
   "id": "1cc408d9-f309-4611-8c9a-53b7c1ff150e",
   "metadata": {},
   "outputs": [
    {
     "name": "stdout",
     "output_type": "stream",
     "text": [
      "\n",
      "Naive Bayes Results:\n",
      "Accuracy: 0.949748743718593\n",
      "Confusion Matrix: [[95, 3], [7, 94]]\n",
      "Classification Report: {'0': {'precision': 0.9313725490196079, 'recall': 0.9693877551020408, 'f1-score': 0.95, 'support': 98.0}, '1': {'precision': 0.9690721649484536, 'recall': 0.9306930693069307, 'f1-score': 0.9494949494949495, 'support': 101.0}, 'accuracy': 0.949748743718593, 'macro avg': {'precision': 0.9502223569840307, 'recall': 0.9500404122044858, 'f1-score': 0.9497474747474748, 'support': 199.0}, 'weighted avg': {'precision': 0.9505065249432934, 'recall': 0.949748743718593, 'f1-score': 0.94974366783412, 'support': 199.0}}\n",
      "\n",
      "SVM Results:\n",
      "Accuracy: 0.9346733668341709\n",
      "Confusion Matrix: [[95, 3], [10, 91]]\n",
      "Classification Report: {'0': {'precision': 0.9047619047619048, 'recall': 0.9693877551020408, 'f1-score': 0.9359605911330049, 'support': 98.0}, '1': {'precision': 0.9680851063829787, 'recall': 0.900990099009901, 'f1-score': 0.9333333333333333, 'support': 101.0}, 'accuracy': 0.9346733668341709, 'macro avg': {'precision': 0.9364235055724417, 'recall': 0.9351889270559709, 'f1-score': 0.9346469622331691, 'support': 199.0}, 'weighted avg': {'precision': 0.9369008161374247, 'recall': 0.9346733668341709, 'f1-score': 0.9346271587824178, 'support': 199.0}}\n",
      "\n",
      "Linear Regression Results:\n",
      "Accuracy: 0.9246231155778895\n",
      "Confusion Matrix: [[95, 3], [12, 89]]\n",
      "Classification Report: {'0': {'precision': 0.8878504672897196, 'recall': 0.9693877551020408, 'f1-score': 0.926829268292683, 'support': 98.0}, '1': {'precision': 0.967391304347826, 'recall': 0.8811881188118812, 'f1-score': 0.9222797927461139, 'support': 101.0}, 'accuracy': 0.9246231155778895, 'macro avg': {'precision': 0.9276208858187729, 'recall': 0.925287936956961, 'f1-score': 0.9245545305193985, 'support': 199.0}, 'weighted avg': {'precision': 0.9282204398669495, 'recall': 0.9246231155778895, 'f1-score': 0.9245202379901529, 'support': 199.0}}\n",
      "Mean Absolute Error: 0.23980257522797055\n",
      "\n",
      "Decision Tree Results:\n",
      "Accuracy: 0.9346733668341709\n",
      "Confusion Matrix: [[95, 3], [10, 91]]\n",
      "Classification Report: {'0': {'precision': 0.9047619047619048, 'recall': 0.9693877551020408, 'f1-score': 0.9359605911330049, 'support': 98.0}, '1': {'precision': 0.9680851063829787, 'recall': 0.900990099009901, 'f1-score': 0.9333333333333333, 'support': 101.0}, 'accuracy': 0.9346733668341709, 'macro avg': {'precision': 0.9364235055724417, 'recall': 0.9351889270559709, 'f1-score': 0.9346469622331691, 'support': 199.0}, 'weighted avg': {'precision': 0.9369008161374247, 'recall': 0.9346733668341709, 'f1-score': 0.9346271587824178, 'support': 199.0}}\n",
      "\n",
      "Random Forest Results:\n",
      "Accuracy: 0.9346733668341709\n",
      "Confusion Matrix: [[95, 3], [10, 91]]\n",
      "Classification Report: {'0': {'precision': 0.9047619047619048, 'recall': 0.9693877551020408, 'f1-score': 0.9359605911330049, 'support': 98.0}, '1': {'precision': 0.9680851063829787, 'recall': 0.900990099009901, 'f1-score': 0.9333333333333333, 'support': 101.0}, 'accuracy': 0.9346733668341709, 'macro avg': {'precision': 0.9364235055724417, 'recall': 0.9351889270559709, 'f1-score': 0.9346469622331691, 'support': 199.0}, 'weighted avg': {'precision': 0.9369008161374247, 'recall': 0.9346733668341709, 'f1-score': 0.9346271587824178, 'support': 199.0}}\n",
      "\n",
      "Logistic Regression Results:\n",
      "Accuracy: 0.9346733668341709\n",
      "Confusion Matrix: [[95, 3], [10, 91]]\n",
      "Classification Report: {'0': {'precision': 0.9047619047619048, 'recall': 0.9693877551020408, 'f1-score': 0.9359605911330049, 'support': 98.0}, '1': {'precision': 0.9680851063829787, 'recall': 0.900990099009901, 'f1-score': 0.9333333333333333, 'support': 101.0}, 'accuracy': 0.9346733668341709, 'macro avg': {'precision': 0.9364235055724417, 'recall': 0.9351889270559709, 'f1-score': 0.9346469622331691, 'support': 199.0}, 'weighted avg': {'precision': 0.9369008161374247, 'recall': 0.9346733668341709, 'f1-score': 0.9346271587824178, 'support': 199.0}}\n"
     ]
    }
   ],
   "source": [
    "# Display all results\n",
    "for model_name, metrics in results.items():\n",
    "    print(f\"\\n{model_name} Results:\")\n",
    "    for metric_name, metric_value in metrics.items():\n",
    "        print(f\"{metric_name}: {metric_value}\")\n"
   ]
  },
  {
   "cell_type": "code",
   "execution_count": null,
   "id": "3296af2f-b236-4922-856a-dfb4377acc9c",
   "metadata": {},
   "outputs": [],
   "source": []
  },
  {
   "cell_type": "code",
   "execution_count": null,
   "id": "025cd727-4b39-41f6-985b-49299bd9ba5b",
   "metadata": {},
   "outputs": [],
   "source": []
  }
 ],
 "metadata": {
  "kernelspec": {
   "display_name": "Python 3 (ipykernel)",
   "language": "python",
   "name": "python3"
  },
  "language_info": {
   "codemirror_mode": {
    "name": "ipython",
    "version": 3
   },
   "file_extension": ".py",
   "mimetype": "text/x-python",
   "name": "python",
   "nbconvert_exporter": "python",
   "pygments_lexer": "ipython3",
   "version": "3.11.7"
  },
  "widgets": {
   "application/vnd.jupyter.widget-state+json": {
    "state": {},
    "version_major": 2,
    "version_minor": 0
   }
  }
 },
 "nbformat": 4,
 "nbformat_minor": 5
}
